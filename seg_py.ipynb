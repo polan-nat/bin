{
  "nbformat": 4,
  "nbformat_minor": 0,
  "metadata": {
    "colab": {
      "name": "seg-py.ipynb",
      "provenance": [],
      "authorship_tag": "ABX9TyOCQjGFGTKvoWxxa0O64jAB",
      "include_colab_link": true
    },
    "kernelspec": {
      "name": "python3",
      "display_name": "Python 3"
    }
  },
  "cells": [
    {
      "cell_type": "markdown",
      "metadata": {
        "id": "view-in-github",
        "colab_type": "text"
      },
      "source": [
        "<a href=\"https://colab.research.google.com/github/polan-nat/bin/blob/master/seg_py.ipynb\" target=\"_parent\"><img src=\"https://colab.research.google.com/assets/colab-badge.svg\" alt=\"Open In Colab\"/></a>"
      ]
    },
    {
      "cell_type": "code",
      "metadata": {
        "id": "XA_X5ae7ddmQ",
        "colab_type": "code",
        "colab": {
          "base_uri": "https://localhost:8080/",
          "height": 51
        },
        "outputId": "4b5e267a-3f4c-4d04-e92e-51df95c9c347"
      },
      "source": [
        "#isto é um comentário\n",
        "x = 10   #inteiro\n",
        "y = 7.5  #float\n",
        "print(type(x))\n",
        "print(type(y))"
      ],
      "execution_count": 2,
      "outputs": [
        {
          "output_type": "stream",
          "text": [
            "<class 'int'>\n",
            "<class 'float'>\n"
          ],
          "name": "stdout"
        }
      ]
    },
    {
      "cell_type": "code",
      "metadata": {
        "id": "KP-oWDsIeXYs",
        "colab_type": "code",
        "colab": {
          "base_uri": "https://localhost:8080/",
          "height": 34
        },
        "outputId": "a0d996b2-5442-4d96-df81-7e037df4b1fa"
      },
      "source": [
        "print(\"O valor da variavel 'y' é: %.02f\" %y)"
      ],
      "execution_count": 3,
      "outputs": [
        {
          "output_type": "stream",
          "text": [
            "O valor da variavel 'y' é: 7.50\n"
          ],
          "name": "stdout"
        }
      ]
    },
    {
      "cell_type": "code",
      "metadata": {
        "id": "xLApgtJJe146",
        "colab_type": "code",
        "colab": {}
      },
      "source": [
        "curso = \"Ciência da Computação\""
      ],
      "execution_count": null,
      "outputs": []
    }
  ]
}