{
  "nbformat": 4,
  "nbformat_minor": 0,
  "metadata": {
    "colab": {
      "name": "exemplo1.ipynb",
      "provenance": [],
      "authorship_tag": "ABX9TyPX5vydizWzt4aQ0Bui7Hvq",
      "include_colab_link": true
    },
    "kernelspec": {
      "name": "python3",
      "display_name": "Python 3"
    }
  },
  "cells": [
    {
      "cell_type": "markdown",
      "metadata": {
        "id": "view-in-github",
        "colab_type": "text"
      },
      "source": [
        "<a href=\"https://colab.research.google.com/github/polan-nat/bin/blob/master/exemplo1.ipynb\" target=\"_parent\"><img src=\"https://colab.research.google.com/assets/colab-badge.svg\" alt=\"Open In Colab\"/></a>"
      ]
    },
    {
      "cell_type": "code",
      "metadata": {
        "id": "R_6XVpzIw6jk",
        "colab_type": "code",
        "colab": {
          "base_uri": "https://localhost:8080/",
          "height": 51
        },
        "outputId": "3b1dc889-f623-44e6-bae6-3a0f3aee1b6d"
      },
      "source": [
        "print(\"ola gasosa\")\n",
        "print(\"casada?\")"
      ],
      "execution_count": 1,
      "outputs": [
        {
          "output_type": "stream",
          "text": [
            "ola gasosa\n",
            "casada?\n"
          ],
          "name": "stdout"
        }
      ]
    }
  ]
}